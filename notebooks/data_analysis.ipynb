{
 "cells": [
  {
   "cell_type": "code",
   "execution_count": 1,
   "metadata": {},
   "outputs": [
    {
     "name": "stdout",
     "output_type": "stream",
     "text": [
      "/Users/khoavan\n"
     ]
    }
   ],
   "source": [
    "%cd"
   ]
  },
  {
   "cell_type": "code",
   "execution_count": 2,
   "metadata": {},
   "outputs": [
    {
     "name": "stdout",
     "output_type": "stream",
     "text": [
      "\u001b[34mDesktop\u001b[m\u001b[m/                     configure.ac\n",
      "\u001b[34mDocuments\u001b[m\u001b[m/                   \u001b[34mdata\u001b[m\u001b[m/\n",
      "\u001b[34mDownloads\u001b[m\u001b[m/                   \u001b[34mdownloaded_videos\u001b[m\u001b[m/\n",
      "\u001b[34mLLFF\u001b[m\u001b[m/                        \u001b[34mguessing_game\u001b[m\u001b[m/\n",
      "LLLF_loading.ipynb           \u001b[34mmetrax\u001b[m\u001b[m/\n",
      "\u001b[34mLibrary\u001b[m\u001b[m/                     \u001b[34mminimal-trainer-zoo\u001b[m\u001b[m/\n",
      "Makefile.pre.in              \u001b[34mmongodb-macos-aarch64-7.0.8\u001b[m\u001b[m/\n",
      "\u001b[34mMovies\u001b[m\u001b[m/                      \u001b[34mnltk_data\u001b[m\u001b[m/\n",
      "\u001b[34mMusic\u001b[m\u001b[m/                       project_test.ipynb\n",
      "\u001b[34mPictures\u001b[m\u001b[m/                    \u001b[34mresearch-rag-llm\u001b[m\u001b[m/\n",
      "\u001b[34mPublic\u001b[m\u001b[m/                      \u001b[34mscikit_learn_data\u001b[m\u001b[m/\n",
      "\u001b[34mYouTubeAdData\u001b[m\u001b[m/               test.py\n",
      "\u001b[34manaconda3\u001b[m\u001b[m/                   \u001b[34mtmp_trainer\u001b[m\u001b[m/\n",
      "\u001b[34mcolmap\u001b[m\u001b[m/\n"
     ]
    }
   ],
   "source": [
    "%ls"
   ]
  },
  {
   "cell_type": "code",
   "execution_count": 3,
   "metadata": {},
   "outputs": [
    {
     "name": "stdout",
     "output_type": "stream",
     "text": [
      "/Users/khoavan/research-rag-llm\n"
     ]
    }
   ],
   "source": [
    "%cd research-rag-llm"
   ]
  },
  {
   "cell_type": "code",
   "execution_count": 4,
   "metadata": {},
   "outputs": [
    {
     "data": {
      "text/html": [
       "<div>\n",
       "<style scoped>\n",
       "    .dataframe tbody tr th:only-of-type {\n",
       "        vertical-align: middle;\n",
       "    }\n",
       "\n",
       "    .dataframe tbody tr th {\n",
       "        vertical-align: top;\n",
       "    }\n",
       "\n",
       "    .dataframe thead th {\n",
       "        text-align: right;\n",
       "    }\n",
       "</style>\n",
       "<table border=\"1\" class=\"dataframe\">\n",
       "  <thead>\n",
       "    <tr style=\"text-align: right;\">\n",
       "      <th></th>\n",
       "      <th>arxiv_id</th>\n",
       "      <th>text</th>\n",
       "      <th>title</th>\n",
       "      <th>topic</th>\n",
       "      <th>abstract</th>\n",
       "      <th>authors</th>\n",
       "    </tr>\n",
       "  </thead>\n",
       "  <tbody>\n",
       "    <tr>\n",
       "      <th>0</th>\n",
       "      <td>2503.21330v1</td>\n",
       "      <td>Large Language Models for Traffic and Transpor...</td>\n",
       "      <td>Large Language Models for Traffic and Transpor...</td>\n",
       "      <td>social sciences</td>\n",
       "      <td>The rapid rise of Large Language Models (LLMs)...</td>\n",
       "      <td>[Yimo Yan, Yejia Liao, Guanhao Xu, Ruili Yao, ...</td>\n",
       "    </tr>\n",
       "    <tr>\n",
       "      <th>1</th>\n",
       "      <td>2503.21644v1</td>\n",
       "      <td>Four-twist effects on excitations\\nin symmetri...</td>\n",
       "      <td>Four-twist effects on excitations in symmetric...</td>\n",
       "      <td>physics</td>\n",
       "      <td>Symmetric orbifold CFTs contain twist operator...</td>\n",
       "      <td>[Bin Guo, Shaun D. Hampton]</td>\n",
       "    </tr>\n",
       "    <tr>\n",
       "      <th>2</th>\n",
       "      <td>2503.21295v1</td>\n",
       "      <td>R-PRM: Reasoning-Driven Process Reward Modelin...</td>\n",
       "      <td>R-PRM: Reasoning-Driven Process Reward Modeling</td>\n",
       "      <td>mathematics</td>\n",
       "      <td>Large language models (LLMs) inevitably make m...</td>\n",
       "      <td>[Shuaijie She, Junxiao Liu, Yifeng Liu, Jiajun...</td>\n",
       "    </tr>\n",
       "    <tr>\n",
       "      <th>3</th>\n",
       "      <td>2503.20295v1</td>\n",
       "      <td>arXiv:2503.20295v1  [hep-th]  26 Mar 2025\\nPac...</td>\n",
       "      <td>Packaged Quantum States and Symmetry: A Group-...</td>\n",
       "      <td>mathematics</td>\n",
       "      <td>We present a group-theoretic framework showing...</td>\n",
       "      <td>[Rongchao Ma]</td>\n",
       "    </tr>\n",
       "    <tr>\n",
       "      <th>4</th>\n",
       "      <td>2503.16807v1</td>\n",
       "      <td>Submitted to the Annals of Applied Statistics\\...</td>\n",
       "      <td>Multi-View Orthogonal Projection Regression wi...</td>\n",
       "      <td>biology</td>\n",
       "      <td>Multi-omics integration offers novel insights ...</td>\n",
       "      <td>[Zongrui Dai, Yvonne J. Huang, Gen Li]</td>\n",
       "    </tr>\n",
       "  </tbody>\n",
       "</table>\n",
       "</div>"
      ],
      "text/plain": [
       "       arxiv_id                                               text  \\\n",
       "0  2503.21330v1  Large Language Models for Traffic and Transpor...   \n",
       "1  2503.21644v1  Four-twist effects on excitations\\nin symmetri...   \n",
       "2  2503.21295v1  R-PRM: Reasoning-Driven Process Reward Modelin...   \n",
       "3  2503.20295v1  arXiv:2503.20295v1  [hep-th]  26 Mar 2025\\nPac...   \n",
       "4  2503.16807v1  Submitted to the Annals of Applied Statistics\\...   \n",
       "\n",
       "                                               title            topic  \\\n",
       "0  Large Language Models for Traffic and Transpor...  social sciences   \n",
       "1  Four-twist effects on excitations in symmetric...          physics   \n",
       "2    R-PRM: Reasoning-Driven Process Reward Modeling      mathematics   \n",
       "3  Packaged Quantum States and Symmetry: A Group-...      mathematics   \n",
       "4  Multi-View Orthogonal Projection Regression wi...          biology   \n",
       "\n",
       "                                            abstract  \\\n",
       "0  The rapid rise of Large Language Models (LLMs)...   \n",
       "1  Symmetric orbifold CFTs contain twist operator...   \n",
       "2  Large language models (LLMs) inevitably make m...   \n",
       "3  We present a group-theoretic framework showing...   \n",
       "4  Multi-omics integration offers novel insights ...   \n",
       "\n",
       "                                             authors  \n",
       "0  [Yimo Yan, Yejia Liao, Guanhao Xu, Ruili Yao, ...  \n",
       "1                        [Bin Guo, Shaun D. Hampton]  \n",
       "2  [Shuaijie She, Junxiao Liu, Yifeng Liu, Jiajun...  \n",
       "3                                      [Rongchao Ma]  \n",
       "4             [Zongrui Dai, Yvonne J. Huang, Gen Li]  "
      ]
     },
     "execution_count": 4,
     "metadata": {},
     "output_type": "execute_result"
    }
   ],
   "source": [
    "import pandas as pd\n",
    "df = pd.read_json('data/processed_text.jsonl', lines=True)\n",
    "df.head(5)"
   ]
  },
  {
   "cell_type": "code",
   "execution_count": 7,
   "metadata": {},
   "outputs": [
    {
     "data": {
      "text/html": [
       "<div>\n",
       "<style scoped>\n",
       "    .dataframe tbody tr th:only-of-type {\n",
       "        vertical-align: middle;\n",
       "    }\n",
       "\n",
       "    .dataframe tbody tr th {\n",
       "        vertical-align: top;\n",
       "    }\n",
       "\n",
       "    .dataframe thead th {\n",
       "        text-align: right;\n",
       "    }\n",
       "</style>\n",
       "<table border=\"1\" class=\"dataframe\">\n",
       "  <thead>\n",
       "    <tr style=\"text-align: right;\">\n",
       "      <th></th>\n",
       "      <th>arxiv_id</th>\n",
       "      <th>text</th>\n",
       "      <th>title</th>\n",
       "      <th>topic</th>\n",
       "      <th>abstract</th>\n",
       "      <th>authors</th>\n",
       "      <th>length</th>\n",
       "    </tr>\n",
       "  </thead>\n",
       "  <tbody>\n",
       "    <tr>\n",
       "      <th>0</th>\n",
       "      <td>2503.21330v1</td>\n",
       "      <td>Large Language Models for Traffic and Transpor...</td>\n",
       "      <td>Large Language Models for Traffic and Transpor...</td>\n",
       "      <td>social sciences</td>\n",
       "      <td>The rapid rise of Large Language Models (LLMs)...</td>\n",
       "      <td>[Yimo Yan, Yejia Liao, Guanhao Xu, Ruili Yao, ...</td>\n",
       "      <td>284520</td>\n",
       "    </tr>\n",
       "    <tr>\n",
       "      <th>1</th>\n",
       "      <td>2503.21644v1</td>\n",
       "      <td>Four-twist effects on excitations\\nin symmetri...</td>\n",
       "      <td>Four-twist effects on excitations in symmetric...</td>\n",
       "      <td>physics</td>\n",
       "      <td>Symmetric orbifold CFTs contain twist operator...</td>\n",
       "      <td>[Bin Guo, Shaun D. Hampton]</td>\n",
       "      <td>81247</td>\n",
       "    </tr>\n",
       "    <tr>\n",
       "      <th>2</th>\n",
       "      <td>2503.21295v1</td>\n",
       "      <td>R-PRM: Reasoning-Driven Process Reward Modelin...</td>\n",
       "      <td>R-PRM: Reasoning-Driven Process Reward Modeling</td>\n",
       "      <td>mathematics</td>\n",
       "      <td>Large language models (LLMs) inevitably make m...</td>\n",
       "      <td>[Shuaijie She, Junxiao Liu, Yifeng Liu, Jiajun...</td>\n",
       "      <td>46553</td>\n",
       "    </tr>\n",
       "    <tr>\n",
       "      <th>3</th>\n",
       "      <td>2503.20295v1</td>\n",
       "      <td>arXiv:2503.20295v1  [hep-th]  26 Mar 2025\\nPac...</td>\n",
       "      <td>Packaged Quantum States and Symmetry: A Group-...</td>\n",
       "      <td>mathematics</td>\n",
       "      <td>We present a group-theoretic framework showing...</td>\n",
       "      <td>[Rongchao Ma]</td>\n",
       "      <td>155629</td>\n",
       "    </tr>\n",
       "    <tr>\n",
       "      <th>4</th>\n",
       "      <td>2503.16807v1</td>\n",
       "      <td>Submitted to the Annals of Applied Statistics\\...</td>\n",
       "      <td>Multi-View Orthogonal Projection Regression wi...</td>\n",
       "      <td>biology</td>\n",
       "      <td>Multi-omics integration offers novel insights ...</td>\n",
       "      <td>[Zongrui Dai, Yvonne J. Huang, Gen Li]</td>\n",
       "      <td>61631</td>\n",
       "    </tr>\n",
       "  </tbody>\n",
       "</table>\n",
       "</div>"
      ],
      "text/plain": [
       "       arxiv_id                                               text  \\\n",
       "0  2503.21330v1  Large Language Models for Traffic and Transpor...   \n",
       "1  2503.21644v1  Four-twist effects on excitations\\nin symmetri...   \n",
       "2  2503.21295v1  R-PRM: Reasoning-Driven Process Reward Modelin...   \n",
       "3  2503.20295v1  arXiv:2503.20295v1  [hep-th]  26 Mar 2025\\nPac...   \n",
       "4  2503.16807v1  Submitted to the Annals of Applied Statistics\\...   \n",
       "\n",
       "                                               title            topic  \\\n",
       "0  Large Language Models for Traffic and Transpor...  social sciences   \n",
       "1  Four-twist effects on excitations in symmetric...          physics   \n",
       "2    R-PRM: Reasoning-Driven Process Reward Modeling      mathematics   \n",
       "3  Packaged Quantum States and Symmetry: A Group-...      mathematics   \n",
       "4  Multi-View Orthogonal Projection Regression wi...          biology   \n",
       "\n",
       "                                            abstract  \\\n",
       "0  The rapid rise of Large Language Models (LLMs)...   \n",
       "1  Symmetric orbifold CFTs contain twist operator...   \n",
       "2  Large language models (LLMs) inevitably make m...   \n",
       "3  We present a group-theoretic framework showing...   \n",
       "4  Multi-omics integration offers novel insights ...   \n",
       "\n",
       "                                             authors  length  \n",
       "0  [Yimo Yan, Yejia Liao, Guanhao Xu, Ruili Yao, ...  284520  \n",
       "1                        [Bin Guo, Shaun D. Hampton]   81247  \n",
       "2  [Shuaijie She, Junxiao Liu, Yifeng Liu, Jiajun...   46553  \n",
       "3                                      [Rongchao Ma]  155629  \n",
       "4             [Zongrui Dai, Yvonne J. Huang, Gen Li]   61631  "
      ]
     },
     "execution_count": 7,
     "metadata": {},
     "output_type": "execute_result"
    }
   ],
   "source": [
    "df['length'] = df['text'].apply(lambda x: len(x))\n",
    "df.head(5)"
   ]
  },
  {
   "cell_type": "code",
   "execution_count": 8,
   "metadata": {},
   "outputs": [
    {
     "name": "stdout",
     "output_type": "stream",
     "text": [
      "<class 'pandas.core.frame.DataFrame'>\n",
      "RangeIndex: 403 entries, 0 to 402\n",
      "Data columns (total 7 columns):\n",
      " #   Column    Non-Null Count  Dtype \n",
      "---  ------    --------------  ----- \n",
      " 0   arxiv_id  403 non-null    object\n",
      " 1   text      403 non-null    object\n",
      " 2   title     403 non-null    object\n",
      " 3   topic     403 non-null    object\n",
      " 4   abstract  403 non-null    object\n",
      " 5   authors   403 non-null    object\n",
      " 6   length    403 non-null    int64 \n",
      "dtypes: int64(1), object(6)\n",
      "memory usage: 22.2+ KB\n"
     ]
    },
    {
     "data": {
      "text/plain": [
       "arxiv_id    0\n",
       "text        0\n",
       "title       0\n",
       "topic       0\n",
       "abstract    0\n",
       "authors     0\n",
       "length      0\n",
       "dtype: int64"
      ]
     },
     "execution_count": 8,
     "metadata": {},
     "output_type": "execute_result"
    }
   ],
   "source": [
    "df.info()\n",
    "df.isnull().sum()\n"
   ]
  },
  {
   "cell_type": "code",
   "execution_count": 9,
   "metadata": {},
   "outputs": [
    {
     "data": {
      "image/png": "[encoded data removed]",
      "text/plain": [
       "<Figure size 640x480 with 1 Axes>"
      ]
     },
     "metadata": {},
     "output_type": "display_data"
    }
   ],
   "source": [
    "import matplotlib.pyplot as plt\n",
    "df['length'].describe()\n",
    "df['length'].hist(bins=50)\n",
    "plt.show()"
   ]
  },
  {
   "cell_type": "code",
   "execution_count": 11,
   "metadata": {},
   "outputs": [
    {
     "data": {
      "text/plain": [
       "Text(0.5, 1.0, 'Document Length by Topic')"
      ]
     },
     "execution_count": 11,
     "metadata": {},
     "output_type": "execute_result"
    },
    {
     "data": {
      "image/png": "[encoded data removed]",
      "text/plain": [
       "<Figure size 640x480 with 1 Axes>"
      ]
     },
     "metadata": {},
     "output_type": "display_data"
    }
   ],
   "source": [
    "import seaborn as sns\n",
    "\n",
    "sns.boxplot(data=df, x=\"topic\", y=\"length\")\n",
    "plt.xticks(rotation=45)\n",
    "plt.title(\"Document Length by Topic\")\n"
   ]
  }
 ],
 "metadata": {
  "kernelspec": {
   "display_name": ".venv",
   "language": "python",
   "name": "python3"
  },
  "language_info": {
   "codemirror_mode": {
    "name": "ipython",
    "version": 3
   },
   "file_extension": ".py",
   "mimetype": "text/x-python",
   "name": "python",
   "nbconvert_exporter": "python",
   "pygments_lexer": "ipython3",
   "version": "3.13.1"
  }
 },
 "nbformat": 4,
 "nbformat_minor": 2
}
